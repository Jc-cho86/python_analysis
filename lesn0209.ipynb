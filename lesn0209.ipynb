{
 "cells": [
  {
   "cell_type": "code",
   "execution_count": 3,
   "metadata": {},
   "outputs": [
    {
     "data": {
      "text/plain": [
       "15"
      ]
     },
     "execution_count": 3,
     "metadata": {},
     "output_type": "execute_result"
    }
   ],
   "source": [
    "sum((1,2,3,4,5))"
   ]
  },
  {
   "cell_type": "code",
   "execution_count": 4,
   "metadata": {},
   "outputs": [],
   "source": [
    "n=5\n",
    "type(n)\n",
    "del n"
   ]
  },
  {
   "cell_type": "code",
   "execution_count": 5,
   "metadata": {},
   "outputs": [
    {
     "data": {
      "text/plain": [
       "15"
      ]
     },
     "execution_count": 5,
     "metadata": {},
     "output_type": "execute_result"
    }
   ],
   "source": [
    "def myfunction():\n",
    "    return[1,2,3,4,5]\n",
    "total=sum(myfunction())\n",
    "total"
   ]
  },
  {
   "cell_type": "code",
   "execution_count": 6,
   "metadata": {},
   "outputs": [
    {
     "data": {
      "text/plain": [
       "[1, 2, 3, 4, 5]"
      ]
     },
     "execution_count": 6,
     "metadata": {},
     "output_type": "execute_result"
    }
   ],
   "source": [
    "l2=list((1,2,3,4,5))\n",
    "l2"
   ]
  },
  {
   "cell_type": "code",
   "execution_count": 7,
   "metadata": {},
   "outputs": [
    {
     "data": {
      "text/plain": [
       "[1, 2, 3, 4, 5, 6]"
      ]
     },
     "execution_count": 7,
     "metadata": {},
     "output_type": "execute_result"
    }
   ],
   "source": [
    "l2.append(6)\n",
    "l2"
   ]
  },
  {
   "cell_type": "code",
   "execution_count": 1,
   "metadata": {},
   "outputs": [
    {
     "name": "stdout",
     "output_type": "stream",
     "text": [
      "name,chinese,english,math,history,health\n",
      "student1,71,71,69,91,57\n",
      "student2,71,93,57,63,77\n",
      "student3,54,71,86,50,91\n",
      "student4,71,66,77,91,98\n",
      "student5,80,98,75,72,86\n",
      "student6,93,71,64,82,93\n",
      "student7,100,61,50,91,84\n",
      "student8,83,95,99,100,84\n",
      "student9,63,63,92,82,95\n",
      "student10,80,70,63,65,54\n",
      "student11,77,78,94,75,76\n",
      "student12,90,88,61,98,73\n",
      "student13,67,97,77,51,98\n",
      "student14,50,62,94,93,52\n",
      "student15,56,76,100,77,74\n",
      "student16,74,86,55,83,62\n",
      "student17,87,74,79,77,57\n",
      "student18,81,69,68,66,98\n",
      "student19,57,76,100,100,54\n",
      "student20,74,75,64,72,99\n",
      "student21,87,83,89,79,86\n",
      "student22,82,100,93,77,68\n",
      "student23,69,82,87,70,61\n",
      "student24,72,91,78,99,66\n",
      "student25,53,63,78,86,80\n",
      "student26,88,73,89,68,79\n",
      "student27,66,71,83,86,66\n",
      "student28,68,99,95,56,87\n",
      "student29,78,65,85,69,99\n",
      "student30,54,61,79,93,95\n",
      "student31,86,72,63,78,97\n",
      "student32,56,79,77,96,68\n",
      "student33,75,65,79,53,95\n",
      "student34,72,51,75,96,82\n",
      "student35,95,69,62,99,67\n",
      "student36,78,94,54,98,67\n",
      "student37,50,85,58,99,70\n",
      "student38,89,73,94,77,85\n",
      "student39,65,95,65,85,65\n",
      "student40,90,56,50,78,58\n",
      "student41,53,82,62,51,94\n",
      "student42,84,94,56,55,81\n",
      "student43,58,81,83,54,99\n",
      "student44,82,79,50,89,92\n",
      "student45,53,66,76,99,62\n",
      "student46,95,82,99,85,100\n",
      "student47,100,93,53,63,59\n",
      "student48,55,92,62,60,93\n",
      "student49,77,53,51,64,92\n",
      "student50,83,100,91,97,72\n",
      "\n"
     ]
    }
   ],
   "source": [
    "with open(file=\"student.csv\",encoding=\"utf-8\") as file:\n",
    "    content=file.read()\n",
    "print(content)"
   ]
  },
  {
   "cell_type": "code",
   "execution_count": 2,
   "metadata": {},
   "outputs": [
    {
     "name": "stdout",
     "output_type": "stream",
     "text": [
      "['name,chinese,english,math,history,health\\n', 'student1,71,71,69,91,57\\n', 'student2,71,93,57,63,77\\n', 'student3,54,71,86,50,91\\n', 'student4,71,66,77,91,98\\n', 'student5,80,98,75,72,86\\n', 'student6,93,71,64,82,93\\n', 'student7,100,61,50,91,84\\n', 'student8,83,95,99,100,84\\n', 'student9,63,63,92,82,95\\n', 'student10,80,70,63,65,54\\n', 'student11,77,78,94,75,76\\n', 'student12,90,88,61,98,73\\n', 'student13,67,97,77,51,98\\n', 'student14,50,62,94,93,52\\n', 'student15,56,76,100,77,74\\n', 'student16,74,86,55,83,62\\n', 'student17,87,74,79,77,57\\n', 'student18,81,69,68,66,98\\n', 'student19,57,76,100,100,54\\n', 'student20,74,75,64,72,99\\n', 'student21,87,83,89,79,86\\n', 'student22,82,100,93,77,68\\n', 'student23,69,82,87,70,61\\n', 'student24,72,91,78,99,66\\n', 'student25,53,63,78,86,80\\n', 'student26,88,73,89,68,79\\n', 'student27,66,71,83,86,66\\n', 'student28,68,99,95,56,87\\n', 'student29,78,65,85,69,99\\n', 'student30,54,61,79,93,95\\n', 'student31,86,72,63,78,97\\n', 'student32,56,79,77,96,68\\n', 'student33,75,65,79,53,95\\n', 'student34,72,51,75,96,82\\n', 'student35,95,69,62,99,67\\n', 'student36,78,94,54,98,67\\n', 'student37,50,85,58,99,70\\n', 'student38,89,73,94,77,85\\n', 'student39,65,95,65,85,65\\n', 'student40,90,56,50,78,58\\n', 'student41,53,82,62,51,94\\n', 'student42,84,94,56,55,81\\n', 'student43,58,81,83,54,99\\n', 'student44,82,79,50,89,92\\n', 'student45,53,66,76,99,62\\n', 'student46,95,82,99,85,100\\n', 'student47,100,93,53,63,59\\n', 'student48,55,92,62,60,93\\n', 'student49,77,53,51,64,92\\n', 'student50,83,100,91,97,72\\n']\n"
     ]
    }
   ],
   "source": [
    "with open(file='student.csv',encoding='utf-8') as file:\n",
    "    lines:list[str] = file.readlines()\n",
    "    print(lines)"
   ]
  },
  {
   "cell_type": "code",
   "execution_count": 3,
   "metadata": {},
   "outputs": [
    {
     "name": "stdout",
     "output_type": "stream",
     "text": [
      "['student20', '74', '75', '64', '72', '99']\n"
     ]
    }
   ],
   "source": [
    "import csv\n",
    "with open(file='student.csv',encoding='utf-8') as file:\n",
    "    reader = csv.reader(file)\n",
    "    next(reader)\n",
    "    students:list = list(reader)\n",
    "\n",
    "for student in students:\n",
    "    if student[0] == 'student20':\n",
    "        print(student)"
   ]
  },
  {
   "cell_type": "code",
   "execution_count": 8,
   "metadata": {},
   "outputs": [
    {
     "name": "stdout",
     "output_type": "stream",
     "text": [
      "{'name': 'student20', 'chinese': '74', 'english': '75', 'math': '64', 'history': '72', 'health': '99'}\n"
     ]
    }
   ],
   "source": [
    "import csv\n",
    "with open(file=\"student.csv\",encoding=\"utf-8\") as file:\n",
    "    reader=csv.DictReader(file)\n",
    "    students=list(reader)\n",
    "\n",
    "for student in students:\n",
    "    if student[\"name\"]==\"student20\":\n",
    "        print(student)"
   ]
  },
  {
   "cell_type": "code",
   "execution_count": 12,
   "metadata": {},
   "outputs": [
    {
     "name": "stdout",
     "output_type": "stream",
     "text": [
      "[{'上年同月份遊客人次': '36,432',\n",
      "  '備註': ' 門票 ',\n",
      "  '增減數': '9,039',\n",
      "  '成長率': '24.81%',\n",
      "  '遊客人次': '45,471',\n",
      "  '門票收入': '15,815,042',\n",
      "  '\\ufeff觀光遊憩區別': '小人國企業股份有限公司'},\n",
      " {'上年同月份遊客人次': '14,397',\n",
      "  '備註': ' 門票 ',\n",
      "  '增減數': '-2,900',\n",
      "  '成長率': '-20.14%',\n",
      "  '遊客人次': '11,497',\n",
      "  '門票收入': '1,861,371',\n",
      "  '\\ufeff觀光遊憩區別': '味全埔心牧場'},\n",
      " {'上年同月份遊客人次': '10,208',\n",
      "  '備註': ' 停車數 ',\n",
      "  '增減數': '6,035',\n",
      "  '成長率': '59.12%',\n",
      "  '遊客人次': '16,243',\n",
      "  '門票收入': ' - ',\n",
      "  '\\ufeff觀光遊憩區別': '拉拉山'},\n",
      " {'上年同月份遊客人次': '45,447',\n",
      "  '備註': ' 停車數 ',\n",
      "  '增減數': '-2,214',\n",
      "  '成長率': '-4.87%',\n",
      "  '遊客人次': '43,233',\n",
      "  '門票收入': ' - ',\n",
      "  '\\ufeff觀光遊憩區別': '小烏來風景特定區'},\n",
      " {'上年同月份遊客人次': '12,413',\n",
      "  '備註': ' 門票 ',\n",
      "  '增減數': '-617',\n",
      "  '成長率': '-4.97%',\n",
      "  '遊客人次': '11,796',\n",
      "  '門票收入': '221,835',\n",
      "  '\\ufeff觀光遊憩區別': '航空科學館'},\n",
      " {'上年同月份遊客人次': '104,337',\n",
      "  '備註': ' 停車收入 ',\n",
      "  '增減數': '-5,136',\n",
      "  '成長率': '-4.92%',\n",
      "  '遊客人次': '99,201',\n",
      "  '門票收入': '1,515,017',\n",
      "  '\\ufeff觀光遊憩區別': '石門水庫'},\n",
      " {'上年同月份遊客人次': '374,220',\n",
      "  '備註': ' 停車數 ',\n",
      "  '增減數': '8,340',\n",
      "  '成長率': '2.23%',\n",
      "  '遊客人次': '382,560',\n",
      "  '門票收入': ' - ',\n",
      "  '\\ufeff觀光遊憩區別': '慈湖'},\n",
      " {'上年同月份遊客人次': '61,264',\n",
      "  '備註': ' 電子計數器 ',\n",
      "  '增減數': '35,313',\n",
      "  '成長率': '57.64%',\n",
      "  '遊客人次': '96,577',\n",
      "  '門票收入': ' - ',\n",
      "  '\\ufeff觀光遊憩區別': '角板山行館'}]\n"
     ]
    }
   ],
   "source": [
    "import csv\n",
    "from pprint import pprint\n",
    "with open(file='aaa.csv',encoding='utf-8') as file:\n",
    "    reader = csv.DictReader(file)\n",
    "    trip = list(reader)\n",
    "\n",
    "pprint(trip)"
   ]
  },
  {
   "cell_type": "code",
   "execution_count": 13,
   "metadata": {},
   "outputs": [
    {
     "name": "stdout",
     "output_type": "stream",
     "text": [
      "YouBike即時資訊下載完成！\n"
     ]
    }
   ],
   "source": [
    "import requests\n",
    "\n",
    "url = 'https://tcgbusfs.blob.core.windows.net/dotapp/youbike/v2/youbike_immediate.json'\n",
    "\n",
    "try:\n",
    "    response = requests.get(url)\n",
    "    response.raise_for_status()  # 檢查HTTP狀態碼，確保請求成功\n",
    "\n",
    "    data = response.json()  # 將JSON格式的資料轉換為Python字典\n",
    "\n",
    "    # 在這裡你可以對data做任何處理，例如儲存到檔案或分析資料\n",
    "    # 以下是一個簡單的範例，將資料儲存到youbike_data.json檔案中\n",
    "    with open('youbike_data.json', 'w', encoding='utf-8') as f:\n",
    "        import json\n",
    "        json.dump(data, f, ensure_ascii=False, indent=4)\n",
    "\n",
    "    print('YouBike即時資訊下載完成！')\n",
    "\n",
    "except requests.exceptions.RequestException as e:\n",
    "    print(f'下載YouBike即時資訊時發生錯誤：{e}')\n",
    "except json.JSONDecodeError as e:\n",
    "    print(f'解析JSON資料時發生錯誤：{e}')"
   ]
  },
  {
   "cell_type": "code",
   "execution_count": 1,
   "metadata": {},
   "outputs": [
    {
     "name": "stdout",
     "output_type": "stream",
     "text": [
      "{'sno': '500119009', 'sna': 'YouBike2.0_臺大水源舍區B棟', 'sarea': '臺大公館校區', 'mday': '2025-02-09 16:04:16', 'ar': '汀洲路三段60巷2弄路側(B舍北側)', 'sareaen': 'NTU Dist', 'snaen': 'YouBike2.0_NTU ShuiYuan Dorms(B)', 'aren': 'Aly. 2， Ln. 60， Sec. 3， Tingzhou Rd. Dorms B(North)', 'act': '1', 'srcUpdateTime': '2025-02-09 16:16:26', 'updateTime': '2025-02-09 16:16:52', 'infoTime': '2025-02-09 16:04:16', 'infoDate': '2025-02-09', 'total': 30, 'available_rent_bikes': 8, 'latitude': 25.01525, 'longitude': 121.53009, 'available_return_bikes': 21}\n"
     ]
    }
   ],
   "source": [
    "import requests\n",
    "from requests import Response\n",
    "try:\n",
    "    url = 'https://tcgbusfs.blob.core.windows.net/dotapp/youbike/v2/youbike_immediate.json'\n",
    "    response:Response = requests.get(url=url)\n",
    "    response.raise_for_status()    \n",
    "    sites:list = response.json()\n",
    "    for item in sites:\n",
    "        if item['sna'] == 'YouBike2.0_臺大水源舍區B棟':\n",
    "            print(item)\n",
    "        \n",
    "except Exception as e:\n",
    "    print(f'出錯了:{e}')"
   ]
  },
  {
   "cell_type": "code",
   "execution_count": 2,
   "metadata": {},
   "outputs": [
    {
     "name": "stdout",
     "output_type": "stream",
     "text": [
      "{'sno': '500119009', 'sna': 'YouBike2.0_臺大水源舍區B棟', 'sarea': '臺大公館校區', 'mday': '2025-02-09 16:04:16', 'ar': '汀洲路三段60巷2弄路側(B舍北側)', 'sareaen': 'NTU Dist', 'snaen': 'YouBike2.0_NTU ShuiYuan Dorms(B)', 'aren': 'Aly. 2， Ln. 60， Sec. 3， Tingzhou Rd. Dorms B(North)', 'act': '1', 'srcUpdateTime': '2025-02-09 16:16:26', 'updateTime': '2025-02-09 16:16:52', 'infoTime': '2025-02-09 16:04:16', 'infoDate': '2025-02-09', 'total': 30, 'available_rent_bikes': 8, 'latitude': 25.01525, 'longitude': 121.53009, 'available_return_bikes': 21}\n"
     ]
    }
   ],
   "source": [
    "if response.status_code == 200:\n",
    "    sites:list = response.json()\n",
    "    for item in sites:\n",
    "        if item['sna'] == 'YouBike2.0_臺大水源舍區B棟':\n",
    "            print(item)\n",
    "else:\n",
    "    print(response.status_code)\n",
    "    print(\"下載失敗\")\n"
   ]
  },
  {
   "cell_type": "code",
   "execution_count": 3,
   "metadata": {},
   "outputs": [
    {
     "name": "stdout",
     "output_type": "stream",
     "text": [
      "出錯了:division by zero\n"
     ]
    }
   ],
   "source": [
    "try:\n",
    "    5/0\n",
    "except Exception as e:\n",
    "    print(f'出錯了:{e}')\n"
   ]
  }
 ],
 "metadata": {
  "kernelspec": {
   "display_name": "base",
   "language": "python",
   "name": "python3"
  },
  "language_info": {
   "codemirror_mode": {
    "name": "ipython",
    "version": 3
   },
   "file_extension": ".py",
   "mimetype": "text/x-python",
   "name": "python",
   "nbconvert_exporter": "python",
   "pygments_lexer": "ipython3",
   "version": "3.12.7"
  }
 },
 "nbformat": 4,
 "nbformat_minor": 2
}
