{
 "cells": [
  {
   "cell_type": "code",
   "execution_count": 10,
   "metadata": {},
   "outputs": [
    {
     "data": {
      "text/plain": [
       "14"
      ]
     },
     "execution_count": 10,
     "metadata": {},
     "output_type": "execute_result"
    }
   ],
   "source": [
    "list_from_range=list(range(10,20))\n",
    "list_from_range\n",
    "list_from_range[4]"
   ]
  },
  {
   "cell_type": "code",
   "execution_count": 12,
   "metadata": {},
   "outputs": [
    {
     "data": {
      "text/plain": [
       "[1, 3, 5, 7, 9]"
      ]
     },
     "execution_count": 12,
     "metadata": {},
     "output_type": "execute_result"
    }
   ],
   "source": [
    "range(5)\n",
    "range(1,5)\n",
    "list(range(1,10,2))"
   ]
  },
  {
   "cell_type": "code",
   "execution_count": 14,
   "metadata": {},
   "outputs": [
    {
     "data": {
      "text/plain": [
       "[67, 96]"
      ]
     },
     "execution_count": 14,
     "metadata": {},
     "output_type": "execute_result"
    }
   ],
   "source": [
    "empty_list=[]\n",
    "empty_list.append(67)\n",
    "empty_list.append(96)\n",
    "empty_list"
   ]
  },
  {
   "cell_type": "code",
   "execution_count": 35,
   "metadata": {},
   "outputs": [
    {
     "name": "stdout",
     "output_type": "stream",
     "text": [
      "taipei\n"
     ]
    },
    {
     "data": {
      "text/plain": [
       "{'city': 'taipei'}"
      ]
     },
     "execution_count": 35,
     "metadata": {},
     "output_type": "execute_result"
    }
   ],
   "source": [
    "p1={\"name\":\"卓\",\n",
    "    \"age\":30,\n",
    "    \"city\":\"taipei\"}\n",
    "p1\n",
    "\n",
    "print(p1[\"city\"])\n",
    "del p1[\"age\"]\n",
    "p1.pop(\"name\")\n",
    "p1\n"
   ]
  },
  {
   "cell_type": "code",
   "execution_count": 36,
   "metadata": {},
   "outputs": [
    {
     "name": "stdout",
     "output_type": "stream",
     "text": [
      "蘋果\n",
      "香蕉\n",
      "橘子\n"
     ]
    }
   ],
   "source": [
    "fruits=[\"蘋果\",\"香蕉\",\"橘子\"]\n",
    "for fruit in fruits:\n",
    "    print(fruit)"
   ]
  },
  {
   "cell_type": "code",
   "execution_count": 41,
   "metadata": {},
   "outputs": [
    {
     "name": "stdout",
     "output_type": "stream",
     "text": [
      "0->蘋果\n",
      "=============\n",
      "1->香蕉\n",
      "=============\n",
      "2->橘子\n",
      "=============\n"
     ]
    }
   ],
   "source": [
    "for index,fruit in enumerate(fruits):\n",
    "    print(index,fruit,sep=\"->\")\n",
    "    print(\"=============\")"
   ]
  },
  {
   "cell_type": "code",
   "execution_count": 43,
   "metadata": {},
   "outputs": [
    {
     "name": "stdout",
     "output_type": "stream",
     "text": [
      "Taipei:台北\n",
      "New Taipei:新北市\n",
      "Taoyuan:桃園\n",
      "Taichung:台中\n",
      "Tainan:台南\n",
      "Kaohsiung:高雄\n",
      "Keelung:基隆\n",
      "Hsinchu:新竹\n",
      "Chiayi:嘉義\n",
      "Hualien:花蓮\n"
     ]
    }
   ],
   "source": [
    "cities = {\n",
    "    'Taipei': '台北',\n",
    "    'New Taipei': '新北市',\n",
    "    'Taoyuan': '桃園',\n",
    "    'Taichung': '台中',\n",
    "    'Tainan': '台南',\n",
    "    'Kaohsiung': '高雄',\n",
    "    'Keelung': '基隆',\n",
    "    'Hsinchu': '新竹',\n",
    "    'Chiayi': '嘉義',\n",
    "    'Hualien': '花蓮'\n",
    "}\n",
    "for key,value in cities.items():\n",
    "    print(f\"{key}:{value}\")"
   ]
  },
  {
   "cell_type": "code",
   "execution_count": 44,
   "metadata": {},
   "outputs": [
    {
     "data": {
      "text/plain": [
       "[{'name': 'student1',\n",
       "  'chinese': 61,\n",
       "  'english': 68,\n",
       "  'math': 63,\n",
       "  'history': 65,\n",
       "  'health': 96},\n",
       " {'name': 'student2',\n",
       "  'chinese': 84,\n",
       "  'english': 52,\n",
       "  'math': 62,\n",
       "  'history': 83,\n",
       "  'health': 70},\n",
       " {'name': 'student3',\n",
       "  'chinese': 57,\n",
       "  'english': 86,\n",
       "  'math': 79,\n",
       "  'history': 98,\n",
       "  'health': 90},\n",
       " {'name': 'student4',\n",
       "  'chinese': 69,\n",
       "  'english': 72,\n",
       "  'math': 88,\n",
       "  'history': 92,\n",
       "  'health': 72},\n",
       " {'name': 'student5',\n",
       "  'chinese': 86,\n",
       "  'english': 97,\n",
       "  'math': 67,\n",
       "  'history': 76,\n",
       "  'health': 88},\n",
       " {'name': 'student6',\n",
       "  'chinese': 59,\n",
       "  'english': 61,\n",
       "  'math': 59,\n",
       "  'history': 72,\n",
       "  'health': 91},\n",
       " {'name': 'student7',\n",
       "  'chinese': 83,\n",
       "  'english': 95,\n",
       "  'math': 82,\n",
       "  'history': 70,\n",
       "  'health': 82},\n",
       " {'name': 'student8',\n",
       "  'chinese': 53,\n",
       "  'english': 85,\n",
       "  'math': 91,\n",
       "  'history': 70,\n",
       "  'health': 69},\n",
       " {'name': 'student9',\n",
       "  'chinese': 68,\n",
       "  'english': 76,\n",
       "  'math': 74,\n",
       "  'history': 88,\n",
       "  'health': 88},\n",
       " {'name': 'student10',\n",
       "  'chinese': 67,\n",
       "  'english': 77,\n",
       "  'math': 52,\n",
       "  'history': 64,\n",
       "  'health': 94},\n",
       " {'name': 'student11',\n",
       "  'chinese': 53,\n",
       "  'english': 52,\n",
       "  'math': 97,\n",
       "  'history': 82,\n",
       "  'health': 74},\n",
       " {'name': 'student12',\n",
       "  'chinese': 99,\n",
       "  'english': 69,\n",
       "  'math': 80,\n",
       "  'history': 52,\n",
       "  'health': 93},\n",
       " {'name': 'student13',\n",
       "  'chinese': 53,\n",
       "  'english': 84,\n",
       "  'math': 94,\n",
       "  'history': 100,\n",
       "  'health': 63},\n",
       " {'name': 'student14',\n",
       "  'chinese': 64,\n",
       "  'english': 94,\n",
       "  'math': 73,\n",
       "  'history': 87,\n",
       "  'health': 63},\n",
       " {'name': 'student15',\n",
       "  'chinese': 96,\n",
       "  'english': 76,\n",
       "  'math': 95,\n",
       "  'history': 79,\n",
       "  'health': 51},\n",
       " {'name': 'student16',\n",
       "  'chinese': 92,\n",
       "  'english': 80,\n",
       "  'math': 75,\n",
       "  'history': 70,\n",
       "  'health': 83},\n",
       " {'name': 'student17',\n",
       "  'chinese': 100,\n",
       "  'english': 57,\n",
       "  'math': 62,\n",
       "  'history': 68,\n",
       "  'health': 85},\n",
       " {'name': 'student18',\n",
       "  'chinese': 56,\n",
       "  'english': 94,\n",
       "  'math': 63,\n",
       "  'history': 79,\n",
       "  'health': 88},\n",
       " {'name': 'student19',\n",
       "  'chinese': 87,\n",
       "  'english': 56,\n",
       "  'math': 50,\n",
       "  'history': 71,\n",
       "  'health': 50},\n",
       " {'name': 'student20',\n",
       "  'chinese': 51,\n",
       "  'english': 57,\n",
       "  'math': 65,\n",
       "  'history': 62,\n",
       "  'health': 73},\n",
       " {'name': 'student21',\n",
       "  'chinese': 66,\n",
       "  'english': 77,\n",
       "  'math': 54,\n",
       "  'history': 70,\n",
       "  'health': 73},\n",
       " {'name': 'student22',\n",
       "  'chinese': 77,\n",
       "  'english': 54,\n",
       "  'math': 83,\n",
       "  'history': 72,\n",
       "  'health': 99},\n",
       " {'name': 'student23',\n",
       "  'chinese': 70,\n",
       "  'english': 76,\n",
       "  'math': 93,\n",
       "  'history': 61,\n",
       "  'health': 54},\n",
       " {'name': 'student24',\n",
       "  'chinese': 63,\n",
       "  'english': 70,\n",
       "  'math': 55,\n",
       "  'history': 64,\n",
       "  'health': 92},\n",
       " {'name': 'student25',\n",
       "  'chinese': 75,\n",
       "  'english': 60,\n",
       "  'math': 66,\n",
       "  'history': 91,\n",
       "  'health': 87},\n",
       " {'name': 'student26',\n",
       "  'chinese': 53,\n",
       "  'english': 83,\n",
       "  'math': 67,\n",
       "  'history': 50,\n",
       "  'health': 53},\n",
       " {'name': 'student27',\n",
       "  'chinese': 97,\n",
       "  'english': 90,\n",
       "  'math': 91,\n",
       "  'history': 93,\n",
       "  'health': 78},\n",
       " {'name': 'student28',\n",
       "  'chinese': 81,\n",
       "  'english': 67,\n",
       "  'math': 99,\n",
       "  'history': 53,\n",
       "  'health': 95},\n",
       " {'name': 'student29',\n",
       "  'chinese': 97,\n",
       "  'english': 66,\n",
       "  'math': 53,\n",
       "  'history': 59,\n",
       "  'health': 51},\n",
       " {'name': 'student30',\n",
       "  'chinese': 90,\n",
       "  'english': 74,\n",
       "  'math': 78,\n",
       "  'history': 94,\n",
       "  'health': 82},\n",
       " {'name': 'student31',\n",
       "  'chinese': 59,\n",
       "  'english': 99,\n",
       "  'math': 94,\n",
       "  'history': 80,\n",
       "  'health': 83},\n",
       " {'name': 'student32',\n",
       "  'chinese': 59,\n",
       "  'english': 82,\n",
       "  'math': 54,\n",
       "  'history': 64,\n",
       "  'health': 82},\n",
       " {'name': 'student33',\n",
       "  'chinese': 82,\n",
       "  'english': 61,\n",
       "  'math': 73,\n",
       "  'history': 62,\n",
       "  'health': 73},\n",
       " {'name': 'student34',\n",
       "  'chinese': 94,\n",
       "  'english': 53,\n",
       "  'math': 63,\n",
       "  'history': 68,\n",
       "  'health': 56},\n",
       " {'name': 'student35',\n",
       "  'chinese': 64,\n",
       "  'english': 99,\n",
       "  'math': 81,\n",
       "  'history': 96,\n",
       "  'health': 90},\n",
       " {'name': 'student36',\n",
       "  'chinese': 99,\n",
       "  'english': 90,\n",
       "  'math': 77,\n",
       "  'history': 53,\n",
       "  'health': 86},\n",
       " {'name': 'student37',\n",
       "  'chinese': 80,\n",
       "  'english': 90,\n",
       "  'math': 68,\n",
       "  'history': 94,\n",
       "  'health': 58},\n",
       " {'name': 'student38',\n",
       "  'chinese': 81,\n",
       "  'english': 58,\n",
       "  'math': 84,\n",
       "  'history': 81,\n",
       "  'health': 86},\n",
       " {'name': 'student39',\n",
       "  'chinese': 84,\n",
       "  'english': 87,\n",
       "  'math': 52,\n",
       "  'history': 59,\n",
       "  'health': 87},\n",
       " {'name': 'student40',\n",
       "  'chinese': 52,\n",
       "  'english': 86,\n",
       "  'math': 55,\n",
       "  'history': 67,\n",
       "  'health': 50},\n",
       " {'name': 'student41',\n",
       "  'chinese': 85,\n",
       "  'english': 90,\n",
       "  'math': 91,\n",
       "  'history': 100,\n",
       "  'health': 92},\n",
       " {'name': 'student42',\n",
       "  'chinese': 56,\n",
       "  'english': 51,\n",
       "  'math': 75,\n",
       "  'history': 76,\n",
       "  'health': 98},\n",
       " {'name': 'student43',\n",
       "  'chinese': 51,\n",
       "  'english': 73,\n",
       "  'math': 77,\n",
       "  'history': 93,\n",
       "  'health': 50},\n",
       " {'name': 'student44',\n",
       "  'chinese': 84,\n",
       "  'english': 64,\n",
       "  'math': 92,\n",
       "  'history': 56,\n",
       "  'health': 74},\n",
       " {'name': 'student45',\n",
       "  'chinese': 69,\n",
       "  'english': 91,\n",
       "  'math': 89,\n",
       "  'history': 77,\n",
       "  'health': 92},\n",
       " {'name': 'student46',\n",
       "  'chinese': 64,\n",
       "  'english': 72,\n",
       "  'math': 67,\n",
       "  'history': 66,\n",
       "  'health': 52},\n",
       " {'name': 'student47',\n",
       "  'chinese': 76,\n",
       "  'english': 69,\n",
       "  'math': 93,\n",
       "  'history': 64,\n",
       "  'health': 64},\n",
       " {'name': 'student48',\n",
       "  'chinese': 63,\n",
       "  'english': 89,\n",
       "  'math': 92,\n",
       "  'history': 58,\n",
       "  'health': 60},\n",
       " {'name': 'student49',\n",
       "  'chinese': 85,\n",
       "  'english': 71,\n",
       "  'math': 59,\n",
       "  'history': 75,\n",
       "  'health': 51},\n",
       " {'name': 'student50',\n",
       "  'chinese': 59,\n",
       "  'english': 70,\n",
       "  'math': 87,\n",
       "  'history': 64,\n",
       "  'health': 94}]"
      ]
     },
     "execution_count": 44,
     "metadata": {},
     "output_type": "execute_result"
    }
   ],
   "source": [
    "import random\n",
    "students = []\n",
    "for i in range(1,51):\n",
    "    students.append(\n",
    "        {\n",
    "            'name':f'student{i}',\n",
    "            'chinese':random.randint(50,100),\n",
    "            'english':random.randint(50,100),\n",
    "            'math':random.randint(50,100),\n",
    "            'history':random.randint(50,100),\n",
    "            'health':random.randint(50,100)\n",
    "        }\n",
    "    )\n",
    "\n",
    "students"
   ]
  },
  {
   "cell_type": "code",
   "execution_count": 76,
   "metadata": {},
   "outputs": [
    {
     "data": {
      "text/plain": [
       "True"
      ]
     },
     "execution_count": 76,
     "metadata": {},
     "output_type": "execute_result"
    }
   ],
   "source": [
    "import csv\n",
    "with open('student.csv',mode='w',encoding='utf-8',newline='') as file:\n",
    "    writer=csv.DictWriter(file,[\"name\",\"chinese\",\"english\",\"math\",\"history\",\"health\"])\n",
    "    writer.writeheader()\n",
    "    writer.writerows(students)\n",
    "file.close()\n",
    "file.closed\n"
   ]
  }
 ],
 "metadata": {
  "kernelspec": {
   "display_name": "base",
   "language": "python",
   "name": "python3"
  },
  "language_info": {
   "codemirror_mode": {
    "name": "ipython",
    "version": 3
   },
   "file_extension": ".py",
   "mimetype": "text/x-python",
   "name": "python",
   "nbconvert_exporter": "python",
   "pygments_lexer": "ipython3",
   "version": "3.12.3"
  }
 },
 "nbformat": 4,
 "nbformat_minor": 2
}
