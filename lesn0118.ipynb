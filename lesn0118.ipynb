{
 "cells": [
  {
   "cell_type": "code",
   "execution_count": 1,
   "metadata": {},
   "outputs": [
    {
     "data": {
      "text/plain": [
       "14"
      ]
     },
     "execution_count": 1,
     "metadata": {},
     "output_type": "execute_result"
    }
   ],
   "source": [
    "list_from_range=list(range(10,20))\n",
    "list_from_range\n",
    "list_from_range[4]"
   ]
  },
  {
   "cell_type": "code",
   "execution_count": 2,
   "metadata": {},
   "outputs": [
    {
     "data": {
      "text/plain": [
       "[1, 3, 5, 7, 9]"
      ]
     },
     "execution_count": 2,
     "metadata": {},
     "output_type": "execute_result"
    }
   ],
   "source": [
    "range(5)\n",
    "range(1,5)\n",
    "list(range(1,10,2))"
   ]
  },
  {
   "cell_type": "code",
   "execution_count": 3,
   "metadata": {},
   "outputs": [
    {
     "data": {
      "text/plain": [
       "[67, 96]"
      ]
     },
     "execution_count": 3,
     "metadata": {},
     "output_type": "execute_result"
    }
   ],
   "source": [
    "empty_list=[]\n",
    "empty_list.append(67)\n",
    "empty_list.append(96)\n",
    "empty_list"
   ]
  },
  {
   "cell_type": "code",
   "execution_count": 4,
   "metadata": {},
   "outputs": [
    {
     "name": "stdout",
     "output_type": "stream",
     "text": [
      "taipei\n"
     ]
    },
    {
     "data": {
      "text/plain": [
       "{'city': 'taipei'}"
      ]
     },
     "execution_count": 4,
     "metadata": {},
     "output_type": "execute_result"
    }
   ],
   "source": [
    "p1={\"name\":\"卓\",\n",
    "    \"age\":30,\n",
    "    \"city\":\"taipei\"}\n",
    "p1\n",
    "\n",
    "print(p1[\"city\"])\n",
    "del p1[\"age\"]\n",
    "p1.pop(\"name\")\n",
    "p1"
   ]
  },
  {
   "cell_type": "code",
   "execution_count": 5,
   "metadata": {},
   "outputs": [
    {
     "name": "stdout",
     "output_type": "stream",
     "text": [
      "蘋果\n",
      "香蕉\n",
      "橘子\n"
     ]
    }
   ],
   "source": [
    "fruits=[\"蘋果\",\"香蕉\",\"橘子\"]\n",
    "for fruit in fruits:\n",
    "    print(fruit)"
   ]
  },
  {
   "cell_type": "code",
   "execution_count": 6,
   "metadata": {},
   "outputs": [
    {
     "name": "stdout",
     "output_type": "stream",
     "text": [
      "0->蘋果\n",
      "=============\n",
      "1->香蕉\n",
      "=============\n",
      "2->橘子\n",
      "=============\n"
     ]
    }
   ],
   "source": [
    "for index,fruit in enumerate(fruits):\n",
    "    print(index,fruit,sep=\"->\")\n",
    "    print(\"=============\")"
   ]
  },
  {
   "cell_type": "code",
   "execution_count": 7,
   "metadata": {},
   "outputs": [
    {
     "name": "stdout",
     "output_type": "stream",
     "text": [
      "Taipei:台北\n",
      "New Taipei:新北市\n",
      "Taoyuan:桃園\n",
      "Taichung:台中\n",
      "Tainan:台南\n",
      "Kaohsiung:高雄\n",
      "Keelung:基隆\n",
      "Hsinchu:新竹\n",
      "Chiayi:嘉義\n",
      "Hualien:花蓮\n"
     ]
    }
   ],
   "source": [
    "cities = {\n",
    "    'Taipei': '台北',\n",
    "    'New Taipei': '新北市',\n",
    "    'Taoyuan': '桃園',\n",
    "    'Taichung': '台中',\n",
    "    'Tainan': '台南',\n",
    "    'Kaohsiung': '高雄',\n",
    "    'Keelung': '基隆',\n",
    "    'Hsinchu': '新竹',\n",
    "    'Chiayi': '嘉義',\n",
    "    'Hualien': '花蓮'\n",
    "}\n",
    "for key,value in cities.items():\n",
    "    print(f\"{key}:{value}\")"
   ]
  },
  {
   "cell_type": "code",
   "execution_count": 8,
   "metadata": {},
   "outputs": [
    {
     "data": {
      "text/plain": [
       "[{'name': 'student1',\n",
       "  'chinese': 71,\n",
       "  'english': 71,\n",
       "  'math': 69,\n",
       "  'history': 91,\n",
       "  'health': 57},\n",
       " {'name': 'student2',\n",
       "  'chinese': 71,\n",
       "  'english': 93,\n",
       "  'math': 57,\n",
       "  'history': 63,\n",
       "  'health': 77},\n",
       " {'name': 'student3',\n",
       "  'chinese': 54,\n",
       "  'english': 71,\n",
       "  'math': 86,\n",
       "  'history': 50,\n",
       "  'health': 91},\n",
       " {'name': 'student4',\n",
       "  'chinese': 71,\n",
       "  'english': 66,\n",
       "  'math': 77,\n",
       "  'history': 91,\n",
       "  'health': 98},\n",
       " {'name': 'student5',\n",
       "  'chinese': 80,\n",
       "  'english': 98,\n",
       "  'math': 75,\n",
       "  'history': 72,\n",
       "  'health': 86},\n",
       " {'name': 'student6',\n",
       "  'chinese': 93,\n",
       "  'english': 71,\n",
       "  'math': 64,\n",
       "  'history': 82,\n",
       "  'health': 93},\n",
       " {'name': 'student7',\n",
       "  'chinese': 100,\n",
       "  'english': 61,\n",
       "  'math': 50,\n",
       "  'history': 91,\n",
       "  'health': 84},\n",
       " {'name': 'student8',\n",
       "  'chinese': 83,\n",
       "  'english': 95,\n",
       "  'math': 99,\n",
       "  'history': 100,\n",
       "  'health': 84},\n",
       " {'name': 'student9',\n",
       "  'chinese': 63,\n",
       "  'english': 63,\n",
       "  'math': 92,\n",
       "  'history': 82,\n",
       "  'health': 95},\n",
       " {'name': 'student10',\n",
       "  'chinese': 80,\n",
       "  'english': 70,\n",
       "  'math': 63,\n",
       "  'history': 65,\n",
       "  'health': 54},\n",
       " {'name': 'student11',\n",
       "  'chinese': 77,\n",
       "  'english': 78,\n",
       "  'math': 94,\n",
       "  'history': 75,\n",
       "  'health': 76},\n",
       " {'name': 'student12',\n",
       "  'chinese': 90,\n",
       "  'english': 88,\n",
       "  'math': 61,\n",
       "  'history': 98,\n",
       "  'health': 73},\n",
       " {'name': 'student13',\n",
       "  'chinese': 67,\n",
       "  'english': 97,\n",
       "  'math': 77,\n",
       "  'history': 51,\n",
       "  'health': 98},\n",
       " {'name': 'student14',\n",
       "  'chinese': 50,\n",
       "  'english': 62,\n",
       "  'math': 94,\n",
       "  'history': 93,\n",
       "  'health': 52},\n",
       " {'name': 'student15',\n",
       "  'chinese': 56,\n",
       "  'english': 76,\n",
       "  'math': 100,\n",
       "  'history': 77,\n",
       "  'health': 74},\n",
       " {'name': 'student16',\n",
       "  'chinese': 74,\n",
       "  'english': 86,\n",
       "  'math': 55,\n",
       "  'history': 83,\n",
       "  'health': 62},\n",
       " {'name': 'student17',\n",
       "  'chinese': 87,\n",
       "  'english': 74,\n",
       "  'math': 79,\n",
       "  'history': 77,\n",
       "  'health': 57},\n",
       " {'name': 'student18',\n",
       "  'chinese': 81,\n",
       "  'english': 69,\n",
       "  'math': 68,\n",
       "  'history': 66,\n",
       "  'health': 98},\n",
       " {'name': 'student19',\n",
       "  'chinese': 57,\n",
       "  'english': 76,\n",
       "  'math': 100,\n",
       "  'history': 100,\n",
       "  'health': 54},\n",
       " {'name': 'student20',\n",
       "  'chinese': 74,\n",
       "  'english': 75,\n",
       "  'math': 64,\n",
       "  'history': 72,\n",
       "  'health': 99},\n",
       " {'name': 'student21',\n",
       "  'chinese': 87,\n",
       "  'english': 83,\n",
       "  'math': 89,\n",
       "  'history': 79,\n",
       "  'health': 86},\n",
       " {'name': 'student22',\n",
       "  'chinese': 82,\n",
       "  'english': 100,\n",
       "  'math': 93,\n",
       "  'history': 77,\n",
       "  'health': 68},\n",
       " {'name': 'student23',\n",
       "  'chinese': 69,\n",
       "  'english': 82,\n",
       "  'math': 87,\n",
       "  'history': 70,\n",
       "  'health': 61},\n",
       " {'name': 'student24',\n",
       "  'chinese': 72,\n",
       "  'english': 91,\n",
       "  'math': 78,\n",
       "  'history': 99,\n",
       "  'health': 66},\n",
       " {'name': 'student25',\n",
       "  'chinese': 53,\n",
       "  'english': 63,\n",
       "  'math': 78,\n",
       "  'history': 86,\n",
       "  'health': 80},\n",
       " {'name': 'student26',\n",
       "  'chinese': 88,\n",
       "  'english': 73,\n",
       "  'math': 89,\n",
       "  'history': 68,\n",
       "  'health': 79},\n",
       " {'name': 'student27',\n",
       "  'chinese': 66,\n",
       "  'english': 71,\n",
       "  'math': 83,\n",
       "  'history': 86,\n",
       "  'health': 66},\n",
       " {'name': 'student28',\n",
       "  'chinese': 68,\n",
       "  'english': 99,\n",
       "  'math': 95,\n",
       "  'history': 56,\n",
       "  'health': 87},\n",
       " {'name': 'student29',\n",
       "  'chinese': 78,\n",
       "  'english': 65,\n",
       "  'math': 85,\n",
       "  'history': 69,\n",
       "  'health': 99},\n",
       " {'name': 'student30',\n",
       "  'chinese': 54,\n",
       "  'english': 61,\n",
       "  'math': 79,\n",
       "  'history': 93,\n",
       "  'health': 95},\n",
       " {'name': 'student31',\n",
       "  'chinese': 86,\n",
       "  'english': 72,\n",
       "  'math': 63,\n",
       "  'history': 78,\n",
       "  'health': 97},\n",
       " {'name': 'student32',\n",
       "  'chinese': 56,\n",
       "  'english': 79,\n",
       "  'math': 77,\n",
       "  'history': 96,\n",
       "  'health': 68},\n",
       " {'name': 'student33',\n",
       "  'chinese': 75,\n",
       "  'english': 65,\n",
       "  'math': 79,\n",
       "  'history': 53,\n",
       "  'health': 95},\n",
       " {'name': 'student34',\n",
       "  'chinese': 72,\n",
       "  'english': 51,\n",
       "  'math': 75,\n",
       "  'history': 96,\n",
       "  'health': 82},\n",
       " {'name': 'student35',\n",
       "  'chinese': 95,\n",
       "  'english': 69,\n",
       "  'math': 62,\n",
       "  'history': 99,\n",
       "  'health': 67},\n",
       " {'name': 'student36',\n",
       "  'chinese': 78,\n",
       "  'english': 94,\n",
       "  'math': 54,\n",
       "  'history': 98,\n",
       "  'health': 67},\n",
       " {'name': 'student37',\n",
       "  'chinese': 50,\n",
       "  'english': 85,\n",
       "  'math': 58,\n",
       "  'history': 99,\n",
       "  'health': 70},\n",
       " {'name': 'student38',\n",
       "  'chinese': 89,\n",
       "  'english': 73,\n",
       "  'math': 94,\n",
       "  'history': 77,\n",
       "  'health': 85},\n",
       " {'name': 'student39',\n",
       "  'chinese': 65,\n",
       "  'english': 95,\n",
       "  'math': 65,\n",
       "  'history': 85,\n",
       "  'health': 65},\n",
       " {'name': 'student40',\n",
       "  'chinese': 90,\n",
       "  'english': 56,\n",
       "  'math': 50,\n",
       "  'history': 78,\n",
       "  'health': 58},\n",
       " {'name': 'student41',\n",
       "  'chinese': 53,\n",
       "  'english': 82,\n",
       "  'math': 62,\n",
       "  'history': 51,\n",
       "  'health': 94},\n",
       " {'name': 'student42',\n",
       "  'chinese': 84,\n",
       "  'english': 94,\n",
       "  'math': 56,\n",
       "  'history': 55,\n",
       "  'health': 81},\n",
       " {'name': 'student43',\n",
       "  'chinese': 58,\n",
       "  'english': 81,\n",
       "  'math': 83,\n",
       "  'history': 54,\n",
       "  'health': 99},\n",
       " {'name': 'student44',\n",
       "  'chinese': 82,\n",
       "  'english': 79,\n",
       "  'math': 50,\n",
       "  'history': 89,\n",
       "  'health': 92},\n",
       " {'name': 'student45',\n",
       "  'chinese': 53,\n",
       "  'english': 66,\n",
       "  'math': 76,\n",
       "  'history': 99,\n",
       "  'health': 62},\n",
       " {'name': 'student46',\n",
       "  'chinese': 95,\n",
       "  'english': 82,\n",
       "  'math': 99,\n",
       "  'history': 85,\n",
       "  'health': 100},\n",
       " {'name': 'student47',\n",
       "  'chinese': 100,\n",
       "  'english': 93,\n",
       "  'math': 53,\n",
       "  'history': 63,\n",
       "  'health': 59},\n",
       " {'name': 'student48',\n",
       "  'chinese': 55,\n",
       "  'english': 92,\n",
       "  'math': 62,\n",
       "  'history': 60,\n",
       "  'health': 93},\n",
       " {'name': 'student49',\n",
       "  'chinese': 77,\n",
       "  'english': 53,\n",
       "  'math': 51,\n",
       "  'history': 64,\n",
       "  'health': 92},\n",
       " {'name': 'student50',\n",
       "  'chinese': 83,\n",
       "  'english': 100,\n",
       "  'math': 91,\n",
       "  'history': 97,\n",
       "  'health': 72}]"
      ]
     },
     "execution_count": 8,
     "metadata": {},
     "output_type": "execute_result"
    }
   ],
   "source": [
    "import random\n",
    "students = []\n",
    "for i in range(1,51):\n",
    "    students.append(\n",
    "        {\n",
    "            'name':f'student{i}',\n",
    "            'chinese':random.randint(50,100),\n",
    "            'english':random.randint(50,100),\n",
    "            'math':random.randint(50,100),\n",
    "            'history':random.randint(50,100),\n",
    "            'health':random.randint(50,100)\n",
    "        }\n",
    "    )\n",
    "\n",
    "students"
   ]
  },
  {
   "cell_type": "code",
   "execution_count": 10,
   "metadata": {},
   "outputs": [],
   "source": [
    "import csv\n",
    "with open('student.csv',mode='w',encoding='utf-8',newline='') as file:\n",
    "    writer=csv.DictWriter(file,[\"name\",\"chinese\",\"english\",\"math\",\"history\",\"health\"])\n",
    "    writer.writeheader()\n",
    "    writer.writerows(students)"
   ]
  }
 ],
 "metadata": {
  "kernelspec": {
   "display_name": "base",
   "language": "python",
   "name": "python3"
  },
  "language_info": {
   "codemirror_mode": {
    "name": "ipython",
    "version": 3
   },
   "file_extension": ".py",
   "mimetype": "text/x-python",
   "name": "python",
   "nbconvert_exporter": "python",
   "pygments_lexer": "ipython3",
   "version": "3.12.7"
  }
 },
 "nbformat": 4,
 "nbformat_minor": 2
}
